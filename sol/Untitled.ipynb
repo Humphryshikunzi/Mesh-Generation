{
 "cells": [
  {
   "cell_type": "code",
   "execution_count": 5,
   "id": "44497545",
   "metadata": {},
   "outputs": [],
   "source": [
    "import pymesh"
   ]
  },
  {
   "cell_type": "code",
   "execution_count": 6,
   "id": "8fe8a8c8",
   "metadata": {},
   "outputs": [],
   "source": [
    "vertices = np.array([\n",
    "...     [0.0, 0.0],\n",
    "...     [1.0, 0.0],\n",
    "...     [1.0, 1.0],\n",
    "...     [0.0, 1.0],\n",
    "...     ]);"
   ]
  },
  {
   "cell_type": "code",
   "execution_count": 7,
   "id": "f8908ffd",
   "metadata": {},
   "outputs": [
    {
     "ename": "AttributeError",
     "evalue": "module 'pymesh' has no attribute 'triangle'",
     "output_type": "error",
     "traceback": [
      "\u001b[1;31m---------------------------------------------------------------------------\u001b[0m",
      "\u001b[1;31mAttributeError\u001b[0m                            Traceback (most recent call last)",
      "Cell \u001b[1;32mIn [7], line 1\u001b[0m\n\u001b[1;32m----> 1\u001b[0m tri \u001b[38;5;241m=\u001b[39m \u001b[43mpymesh\u001b[49m\u001b[38;5;241;43m.\u001b[39;49m\u001b[43mtriangle\u001b[49m()\n",
      "\u001b[1;31mAttributeError\u001b[0m: module 'pymesh' has no attribute 'triangle'"
     ]
    }
   ],
   "source": [
    " tri = pymesh."
   ]
  },
  {
   "cell_type": "code",
   "execution_count": null,
   "id": "c08bcc00",
   "metadata": {},
   "outputs": [],
   "source": []
  }
 ],
 "metadata": {
  "kernelspec": {
   "display_name": "Python 3 (ipykernel)",
   "language": "python",
   "name": "python3"
  },
  "language_info": {
   "codemirror_mode": {
    "name": "ipython",
    "version": 3
   },
   "file_extension": ".py",
   "mimetype": "text/x-python",
   "name": "python",
   "nbconvert_exporter": "python",
   "pygments_lexer": "ipython3",
   "version": "3.10.6"
  }
 },
 "nbformat": 4,
 "nbformat_minor": 5
}
